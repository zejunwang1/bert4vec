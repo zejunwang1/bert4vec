{
 "cells": [
  {
   "cell_type": "code",
   "execution_count": 1,
   "metadata": {},
   "outputs": [],
   "source": [
    "from bert4vec import Bert4Vec"
   ]
  },
  {
   "cell_type": "code",
   "execution_count": 2,
   "metadata": {},
   "outputs": [],
   "source": [
    "sent1 = ['今天天气不错', '今天天气不错', '我喜欢北京', '我喜欢北京', \n",
    "         '电影不错', '电影不错', '红色的苹果', '给我推荐一款红色的车', '给我推荐一款红色的车', '给我推荐一款红色的车']\n",
    "sent2 = ['今天天气很好', '今天天气不好', '我很喜欢北京', '我不喜欢北京', \n",
    "         '电影很好', '电影不好', '绿色的苹果', '给我推荐一款黑色的车', '推荐一辆红车', '麻烦来一辆红车']"
   ]
  },
  {
   "cell_type": "markdown",
   "metadata": {},
   "source": [
    "使用标准的roformer-sim"
   ]
  },
  {
   "cell_type": "code",
   "execution_count": 3,
   "metadata": {},
   "outputs": [
    {
     "name": "stdout",
     "output_type": "stream",
     "text": [
      "[0.89441085 0.92176294 0.9760171  0.9027498  0.88794875 0.89445156\n",
      " 0.77999914 0.7980834  0.8914307  0.6808028 ]\n"
     ]
    }
   ],
   "source": [
    "model = Bert4Vec(mode='roformer-sim-base') \n",
    "similarity = model.similarity(sent1, sent2, return_matrix=False)\n",
    "print(similarity)"
   ]
  },
  {
   "cell_type": "markdown",
   "metadata": {},
   "source": [
    "使用[finetune过后的模型](https://kexue.fm/archives/8541)比较相似度，模型确实能体现出更符合普通常规认知的相似度打分，比如加了“不”字后相似度明显降低"
   ]
  },
  {
   "cell_type": "code",
   "execution_count": 4,
   "metadata": {},
   "outputs": [
    {
     "name": "stdout",
     "output_type": "stream",
     "text": [
      "[0.97699356 0.62355804 0.99210703 0.5291083  0.9676273  0.6313111\n",
      " 0.6974415  0.7191807  0.9866393  0.9460245 ]\n"
     ]
    }
   ],
   "source": [
    "model = Bert4Vec(mode='roformer-sim-ft-base') \n",
    "similarity = model.similarity(sent1, sent2, return_matrix=False)\n",
    "print(similarity)"
   ]
  },
  {
   "cell_type": "code",
   "execution_count": null,
   "metadata": {},
   "outputs": [],
   "source": []
  }
 ],
 "metadata": {
  "kernelspec": {
   "display_name": "Python 3.9.12 ('base')",
   "language": "python",
   "name": "python3"
  },
  "language_info": {
   "codemirror_mode": {
    "name": "ipython",
    "version": 3
   },
   "file_extension": ".py",
   "mimetype": "text/x-python",
   "name": "python",
   "nbconvert_exporter": "python",
   "pygments_lexer": "ipython3",
   "version": "3.9.12"
  },
  "orig_nbformat": 4,
  "vscode": {
   "interpreter": {
    "hash": "228fb4fdf50c48aaed230367f3c11053346245306bfaa9a8a7dbf785baa18430"
   }
  }
 },
 "nbformat": 4,
 "nbformat_minor": 2
}
